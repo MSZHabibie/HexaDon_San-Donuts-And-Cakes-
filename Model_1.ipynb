{
  "nbformat": 4,
  "nbformat_minor": 0,
  "metadata": {
    "colab": {
      "name": "Model-1.ipynb",
      "provenance": [],
      "collapsed_sections": [
        "AD9D0Qouq5RH"
      ],
      "include_colab_link": true
    },
    "kernelspec": {
      "name": "python3",
      "display_name": "Python 3"
    },
    "language_info": {
      "name": "python"
    }
  },
  "cells": [
    {
      "cell_type": "markdown",
      "metadata": {
        "id": "view-in-github",
        "colab_type": "text"
      },
      "source": [
        "<a href=\"https://colab.research.google.com/github/MSZHabibie/tea/blob/main/Model_1.ipynb\" target=\"_parent\"><img src=\"https://colab.research.google.com/assets/colab-badge.svg\" alt=\"Open In Colab\"/></a>"
      ]
    },
    {
      "cell_type": "markdown",
      "source": [
        "# City Based Weather Analysis"
      ],
      "metadata": {
        "id": "3hWsdMSWy203"
      }
    },
    {
      "cell_type": "code",
      "source": [
        "# importing the required libraries\n",
        "import requests\n",
        "# Enter the api key of openweathermap here\n",
        "api_key = \"81c713c1b0fea513c62681c97920daa9\"\n",
        "# Base url for the open map api\n",
        "root_url = \"http://api.openweathermap.org/data/2.5/weather?\"\n",
        "# Input the City name for which we need the weather data\n",
        "city_name = input(\"Please Enter The City Name : \")\n",
        "# Building the final url for the API call\n",
        "url = f\"{root_url}appid={api_key}&q={city_name}\"\n",
        "# sending a get request at the url\n",
        "r = requests.get(url)\n",
        "# storing the returned json data into a variable\n",
        "data = r.json()\n",
        "# Checking If there is no error and the status code is 200\n",
        "if data['cod'] == 200:\n",
        "    # getting the temperature from the json data\n",
        "    temp = data['main']['temp'] - 273.15\n",
        "    # getting the pressure from the json data\n",
        "    pressure = data['main']['pressure']\n",
        "    # getting the humidity from the json data\n",
        "    humidity = data['main']['humidity']\n",
        "    # getting the description from the json data\n",
        "    descr = data['weather'][0]['description']\n",
        "    # getting the wind speed from the json data\n",
        "    wind = data['wind']['speed']\n",
        "    # Displaying all the data\n",
        "    print(f\"City Name : {city_name}\")\n",
        "    print(f\"The Weather Condition is {descr}\")\n",
        "    print(f\"The temperature is {temp :.2f} Celsius\")\n",
        "    print(f\"The pressure is {pressure}hPa\")\n",
        "    print(f\"The humidity is {humidity}%\")\n",
        "    print(f\"The speed of wind is {wind}m/s\")\n",
        "    print(url)\n",
        "else:\n",
        "    # If any error occured then print this\n",
        "    print(\"Something Went Wrong\")"
      ],
      "metadata": {
        "colab": {
          "base_uri": "https://localhost:8080/"
        },
        "id": "fam5io_64MMA",
        "outputId": "c51f2b07-9cdd-4f0a-c31e-8067a42a63b0"
      },
      "execution_count": null,
      "outputs": [
        {
          "output_type": "stream",
          "name": "stdout",
          "text": [
            "Please Enter The City Name : jakarta\n",
            "City Name : jakarta\n",
            "The Weather Condition is moderate rain\n",
            "The temperature is 30.80 Celsius\n",
            "The pressure is 1008hPa\n",
            "The humidity is 67%\n",
            "The speed of wind is 3.7m/s\n",
            "http://api.openweathermap.org/data/2.5/weather?appid=81c713c1b0fea513c62681c97920daa9&q=jakarta\n"
          ]
        }
      ]
    },
    {
      "cell_type": "markdown",
      "source": [
        "## Improved City Based Weather Analysis but just avg Temp within month"
      ],
      "metadata": {
        "id": "AD9D0Qouq5RH"
      }
    },
    {
      "cell_type": "code",
      "source": [
        "import requests\n",
        "from datetime import datetime\n",
        "today = datetime.today()\n",
        "\n",
        "api_key = \"81c713c1b0fea513c62681c97920daa9\"\n",
        "\n",
        "root_url = \"https://history.openweathermap.org/data/2.5/aggregated/month?\"\n",
        "\n",
        "city_name = input(\"Please Enter The City Name : \")\n",
        "\n",
        "url = f\"{root_url}month={today.month}&q={city_name},ID&appid={api_key}\"\n",
        "\n",
        "r = requests.get(url)\n",
        "\n",
        "data = r.json()\n",
        "# Checking If there is no error and the status code is 200\n",
        "if data['cod'] == 200:\n",
        "    # getting the temperature from the json data\n",
        "    temp = data['result']['temp']['mean'] - 273.15\n",
        "    # getting the humidity from the json data\n",
        "    humidity = data['result']['humidity']['mean']\n",
        "    # getting the month from the json data\n",
        "    month = data['result']['month']\n",
        "    print(f\"City Name : {city_name}\")\n",
        "    print(f\"The avg temperature in month {month} is {temp :.2f} Celsius\")\n",
        "    print(f\"The avg humidity in month {month} is {humidity :.2f} %\")\n",
        "    print(url)\n",
        "else:\n",
        "    message = data['message']\n",
        "    print(\"Something Went Wrong,\", message)"
      ],
      "metadata": {
        "id": "Xv_g8NqYq2t8",
        "colab": {
          "base_uri": "https://localhost:8080/",
          "height": 252
        },
        "outputId": "a88810b5-5d24-4f16-fd17-29453cb54a57"
      },
      "execution_count": null,
      "outputs": [
        {
          "name": "stdout",
          "output_type": "stream",
          "text": [
            "Please Enter The City Name : riau\n"
          ]
        },
        {
          "output_type": "error",
          "ename": "KeyError",
          "evalue": "ignored",
          "traceback": [
            "\u001b[0;31m---------------------------------------------------------------------------\u001b[0m",
            "\u001b[0;31mKeyError\u001b[0m                                  Traceback (most recent call last)",
            "\u001b[0;32m<ipython-input-48-6e387bdde60e>\u001b[0m in \u001b[0;36m<module>\u001b[0;34m()\u001b[0m\n\u001b[1;32m     15\u001b[0m \u001b[0mdata\u001b[0m \u001b[0;34m=\u001b[0m \u001b[0mr\u001b[0m\u001b[0;34m.\u001b[0m\u001b[0mjson\u001b[0m\u001b[0;34m(\u001b[0m\u001b[0;34m)\u001b[0m\u001b[0;34m\u001b[0m\u001b[0;34m\u001b[0m\u001b[0m\n\u001b[1;32m     16\u001b[0m \u001b[0;31m# Checking If there is no error and the status code is 200\u001b[0m\u001b[0;34m\u001b[0m\u001b[0;34m\u001b[0m\u001b[0;34m\u001b[0m\u001b[0m\n\u001b[0;32m---> 17\u001b[0;31m \u001b[0;32mif\u001b[0m \u001b[0mdata\u001b[0m\u001b[0;34m[\u001b[0m\u001b[0;34m'cod'\u001b[0m\u001b[0;34m]\u001b[0m \u001b[0;34m==\u001b[0m \u001b[0;36m200\u001b[0m\u001b[0;34m:\u001b[0m\u001b[0;34m\u001b[0m\u001b[0;34m\u001b[0m\u001b[0m\n\u001b[0m\u001b[1;32m     18\u001b[0m     \u001b[0;31m# getting the temperature from the json data\u001b[0m\u001b[0;34m\u001b[0m\u001b[0;34m\u001b[0m\u001b[0;34m\u001b[0m\u001b[0m\n\u001b[1;32m     19\u001b[0m     \u001b[0mtemp\u001b[0m \u001b[0;34m=\u001b[0m \u001b[0mdata\u001b[0m\u001b[0;34m[\u001b[0m\u001b[0;34m'result'\u001b[0m\u001b[0;34m]\u001b[0m\u001b[0;34m[\u001b[0m\u001b[0;34m'temp'\u001b[0m\u001b[0;34m]\u001b[0m\u001b[0;34m[\u001b[0m\u001b[0;34m'mean'\u001b[0m\u001b[0;34m]\u001b[0m \u001b[0;34m-\u001b[0m \u001b[0;36m273.15\u001b[0m\u001b[0;34m\u001b[0m\u001b[0;34m\u001b[0m\u001b[0m\n",
            "\u001b[0;31mKeyError\u001b[0m: 'cod'"
          ]
        }
      ]
    },
    {
      "cell_type": "markdown",
      "source": [
        "## Error handling with try except for location that has no weather history data"
      ],
      "metadata": {
        "id": "UFzlOgwNcJ3o"
      }
    },
    {
      "cell_type": "code",
      "source": [
        "import requests\n",
        "from datetime import datetime\n",
        "today = datetime.today()\n",
        "\n",
        "api_key = \"81c713c1b0fea513c62681c97920daa9\"\n",
        "city_name = input(\"Please Enter The City Name : \")\n",
        "\n",
        "###########################################################################\n",
        "# Bisa dijadikan Method #\n",
        "root_url = \"https://history.openweathermap.org/data/2.5/aggregated/month?\"\n",
        "url = f\"{root_url}month={today.month}&q={city_name},ID&appid={api_key}\"\n",
        "r = requests.get(url)\n",
        "data = r.json()\n",
        "\n",
        "root_url2 = \"https://api.openweathermap.org/data/2.5/weather?\"\n",
        "url2 = f\"{root_url2}q={city_name}&appid={api_key}\"\n",
        "r2 = requests.get(url2)\n",
        "data2 = r2.json()\n",
        "############################################################################\n",
        "\n",
        "# Checking If there is no error and the status code is 200\n",
        "try:\n",
        "  if data['cod'] == 200:\n",
        "      # getting the temperature from the json data\n",
        "      temp = data['result']['temp']['mean'] - 273.15\n",
        "      # getting the humidity from the json data\n",
        "      humidity = data['result']['humidity']['mean']\n",
        "      # getting the month from the json data\n",
        "      month = data['result']['month']\n",
        "      print(f\"City Name : {city_name}\")\n",
        "      print(f\"The avg temperature in month {month} is {temp :.2f} Celsius\")\n",
        "      print(f\"The avg humidity in month {month} is {humidity :.2f} %\")\n",
        "      print(url)\n",
        "  else:\n",
        "      message = data['message']\n",
        "      print(\"Something Went Wrong,\", message)\n",
        "except:\n",
        "  if data['code'] == 404000:\n",
        "    message = data['message']\n",
        "    print(f\"Error, {message}. Switching to current weather....\")\n",
        "    # getting the temperature from the json data\n",
        "    temp = data2['main']['temp'] - 273.15\n",
        "    # getting the humidity from the json data\n",
        "    humidity = data2['main']['humidity']\n",
        "    print(f\"City Name : {city_name}\")\n",
        "    print(f\"The current temperature is {temp :.2f} Celsius\")\n",
        "    print(f\"The current humidity is {humidity :.2f} %\")\n",
        "    print(url2)"
      ],
      "metadata": {
        "colab": {
          "base_uri": "https://localhost:8080/"
        },
        "id": "O4jWOqCidLZM",
        "outputId": "a84f9997-f806-4a92-b6af-5bc8ca247bfe"
      },
      "execution_count": null,
      "outputs": [
        {
          "output_type": "stream",
          "name": "stdout",
          "text": [
            "Please Enter The City Name : Jakarta\n",
            "City Name : Jakarta\n",
            "The avg temperature in month 5 is 28.63 Celsius\n",
            "The avg humidity in month 5 is 77.36 %\n",
            "https://history.openweathermap.org/data/2.5/aggregated/month?month=5&q=Jakarta,ID&appid=81c713c1b0fea513c62681c97920daa9\n"
          ]
        }
      ]
    },
    {
      "cell_type": "markdown",
      "source": [
        "# Dummy Dataset"
      ],
      "metadata": {
        "id": "EUa485-lTZQv"
      }
    },
    {
      "cell_type": "code",
      "source": [
        "import pandas as pd\n",
        "import numpy as np\n",
        "np.random.seed(0)\n",
        "data1 =pd.DataFrame({\"Temperature\" : np.random.uniform(20, 33, 50).round(2),\n",
        "                     \"Soil\" : np.random.choice(range(1,4), 50, replace=True),\n",
        "                     \"Light\" : np.random.choice(range(1,2), 50, replace=True),\n",
        "                     \"Label\"  : \"Bayam Hijau\"})\n",
        "data2 =pd.DataFrame({\"Temperature\" : np.random.uniform(20,28, 50).round(2),\n",
        "                     \"Soil\" : np.random.choice(range(1,4), 50, replace=True),\n",
        "                     \"Light\" : np.random.choice(range(1,2), 50, replace=True),\n",
        "                     \"Label\"  : \"Tomat\"})\n",
        "data3 =pd.DataFrame({\"Temperature\" : np.random.uniform(25,30, 50).round(2),\n",
        "                     \"Soil\" : np.random.choice(range(1,4), 50, replace=True),\n",
        "                     \"Light\" : np.random.choice(range(1,2), 50, replace=True),\n",
        "                     \"Label\"  : \"Kangkung\"})\n",
        "data4 =pd.DataFrame({\"Temperature\" : np.random.uniform(22,30, 50).round(2),\n",
        "                     \"Soil\" : np.random.choice(range(1,4), 50, replace=True),\n",
        "                     \"Light\" : np.random.choice(range(1,2), 50, replace=True),\n",
        "                     \"Label\"  : \"Terung\"})\n",
        "data5 =pd.DataFrame({\"Temperature\" : np.random.uniform(18,20, 50).round(2),\n",
        "                     \"Soil\" : np.random.choice(range(1,4), 50, replace=True),\n",
        "                     \"Light\" : np.random.choice(range(1,3), 50, replace=True),\n",
        "                     \"Label\"  : \"Kubis\"})"
      ],
      "metadata": {
        "id": "kKUc71aXWaw5"
      },
      "execution_count": null,
      "outputs": []
    },
    {
      "cell_type": "code",
      "source": [
        "df = data1.append(data2, ignore_index=True).append(data3, ignore_index=True)\\\n",
        "            .append(data4, ignore_index=True).append(data5, ignore_index=True)\n",
        "df"
      ],
      "metadata": {
        "colab": {
          "base_uri": "https://localhost:8080/"
        },
        "id": "5PVSyF0qpaCY",
        "outputId": "e5326059-3330-4918-f9a0-8b06c749833e"
      },
      "execution_count": null,
      "outputs": [
        {
          "output_type": "execute_result",
          "data": {
            "text/plain": [
              "     Temperature  Soil  Light        Label\n",
              "0          27.13     2      1  Bayam Hijau\n",
              "1          29.30     3      1  Bayam Hijau\n",
              "2          27.84     1      1  Bayam Hijau\n",
              "3          27.08     1      1  Bayam Hijau\n",
              "4          25.51     3      1  Bayam Hijau\n",
              "..           ...   ...    ...          ...\n",
              "245        18.17     3      1        Kubis\n",
              "246        18.19     2      1        Kubis\n",
              "247        19.27     2      2        Kubis\n",
              "248        19.90     2      2        Kubis\n",
              "249        19.87     2      1        Kubis\n",
              "\n",
              "[250 rows x 4 columns]"
            ],
            "text/html": [
              "\n",
              "  <div id=\"df-570ded5f-0f0c-4a12-8dd8-bbfe786673fb\">\n",
              "    <div class=\"colab-df-container\">\n",
              "      <div>\n",
              "<style scoped>\n",
              "    .dataframe tbody tr th:only-of-type {\n",
              "        vertical-align: middle;\n",
              "    }\n",
              "\n",
              "    .dataframe tbody tr th {\n",
              "        vertical-align: top;\n",
              "    }\n",
              "\n",
              "    .dataframe thead th {\n",
              "        text-align: right;\n",
              "    }\n",
              "</style>\n",
              "<table border=\"1\" class=\"dataframe\">\n",
              "  <thead>\n",
              "    <tr style=\"text-align: right;\">\n",
              "      <th></th>\n",
              "      <th>Temperature</th>\n",
              "      <th>Soil</th>\n",
              "      <th>Light</th>\n",
              "      <th>Label</th>\n",
              "    </tr>\n",
              "  </thead>\n",
              "  <tbody>\n",
              "    <tr>\n",
              "      <th>0</th>\n",
              "      <td>27.13</td>\n",
              "      <td>2</td>\n",
              "      <td>1</td>\n",
              "      <td>Bayam Hijau</td>\n",
              "    </tr>\n",
              "    <tr>\n",
              "      <th>1</th>\n",
              "      <td>29.30</td>\n",
              "      <td>3</td>\n",
              "      <td>1</td>\n",
              "      <td>Bayam Hijau</td>\n",
              "    </tr>\n",
              "    <tr>\n",
              "      <th>2</th>\n",
              "      <td>27.84</td>\n",
              "      <td>1</td>\n",
              "      <td>1</td>\n",
              "      <td>Bayam Hijau</td>\n",
              "    </tr>\n",
              "    <tr>\n",
              "      <th>3</th>\n",
              "      <td>27.08</td>\n",
              "      <td>1</td>\n",
              "      <td>1</td>\n",
              "      <td>Bayam Hijau</td>\n",
              "    </tr>\n",
              "    <tr>\n",
              "      <th>4</th>\n",
              "      <td>25.51</td>\n",
              "      <td>3</td>\n",
              "      <td>1</td>\n",
              "      <td>Bayam Hijau</td>\n",
              "    </tr>\n",
              "    <tr>\n",
              "      <th>...</th>\n",
              "      <td>...</td>\n",
              "      <td>...</td>\n",
              "      <td>...</td>\n",
              "      <td>...</td>\n",
              "    </tr>\n",
              "    <tr>\n",
              "      <th>245</th>\n",
              "      <td>18.17</td>\n",
              "      <td>3</td>\n",
              "      <td>1</td>\n",
              "      <td>Kubis</td>\n",
              "    </tr>\n",
              "    <tr>\n",
              "      <th>246</th>\n",
              "      <td>18.19</td>\n",
              "      <td>2</td>\n",
              "      <td>1</td>\n",
              "      <td>Kubis</td>\n",
              "    </tr>\n",
              "    <tr>\n",
              "      <th>247</th>\n",
              "      <td>19.27</td>\n",
              "      <td>2</td>\n",
              "      <td>2</td>\n",
              "      <td>Kubis</td>\n",
              "    </tr>\n",
              "    <tr>\n",
              "      <th>248</th>\n",
              "      <td>19.90</td>\n",
              "      <td>2</td>\n",
              "      <td>2</td>\n",
              "      <td>Kubis</td>\n",
              "    </tr>\n",
              "    <tr>\n",
              "      <th>249</th>\n",
              "      <td>19.87</td>\n",
              "      <td>2</td>\n",
              "      <td>1</td>\n",
              "      <td>Kubis</td>\n",
              "    </tr>\n",
              "  </tbody>\n",
              "</table>\n",
              "<p>250 rows × 4 columns</p>\n",
              "</div>\n",
              "      <button class=\"colab-df-convert\" onclick=\"convertToInteractive('df-570ded5f-0f0c-4a12-8dd8-bbfe786673fb')\"\n",
              "              title=\"Convert this dataframe to an interactive table.\"\n",
              "              style=\"display:none;\">\n",
              "        \n",
              "  <svg xmlns=\"http://www.w3.org/2000/svg\" height=\"24px\"viewBox=\"0 0 24 24\"\n",
              "       width=\"24px\">\n",
              "    <path d=\"M0 0h24v24H0V0z\" fill=\"none\"/>\n",
              "    <path d=\"M18.56 5.44l.94 2.06.94-2.06 2.06-.94-2.06-.94-.94-2.06-.94 2.06-2.06.94zm-11 1L8.5 8.5l.94-2.06 2.06-.94-2.06-.94L8.5 2.5l-.94 2.06-2.06.94zm10 10l.94 2.06.94-2.06 2.06-.94-2.06-.94-.94-2.06-.94 2.06-2.06.94z\"/><path d=\"M17.41 7.96l-1.37-1.37c-.4-.4-.92-.59-1.43-.59-.52 0-1.04.2-1.43.59L10.3 9.45l-7.72 7.72c-.78.78-.78 2.05 0 2.83L4 21.41c.39.39.9.59 1.41.59.51 0 1.02-.2 1.41-.59l7.78-7.78 2.81-2.81c.8-.78.8-2.07 0-2.86zM5.41 20L4 18.59l7.72-7.72 1.47 1.35L5.41 20z\"/>\n",
              "  </svg>\n",
              "      </button>\n",
              "      \n",
              "  <style>\n",
              "    .colab-df-container {\n",
              "      display:flex;\n",
              "      flex-wrap:wrap;\n",
              "      gap: 12px;\n",
              "    }\n",
              "\n",
              "    .colab-df-convert {\n",
              "      background-color: #E8F0FE;\n",
              "      border: none;\n",
              "      border-radius: 50%;\n",
              "      cursor: pointer;\n",
              "      display: none;\n",
              "      fill: #1967D2;\n",
              "      height: 32px;\n",
              "      padding: 0 0 0 0;\n",
              "      width: 32px;\n",
              "    }\n",
              "\n",
              "    .colab-df-convert:hover {\n",
              "      background-color: #E2EBFA;\n",
              "      box-shadow: 0px 1px 2px rgba(60, 64, 67, 0.3), 0px 1px 3px 1px rgba(60, 64, 67, 0.15);\n",
              "      fill: #174EA6;\n",
              "    }\n",
              "\n",
              "    [theme=dark] .colab-df-convert {\n",
              "      background-color: #3B4455;\n",
              "      fill: #D2E3FC;\n",
              "    }\n",
              "\n",
              "    [theme=dark] .colab-df-convert:hover {\n",
              "      background-color: #434B5C;\n",
              "      box-shadow: 0px 1px 3px 1px rgba(0, 0, 0, 0.15);\n",
              "      filter: drop-shadow(0px 1px 2px rgba(0, 0, 0, 0.3));\n",
              "      fill: #FFFFFF;\n",
              "    }\n",
              "  </style>\n",
              "\n",
              "      <script>\n",
              "        const buttonEl =\n",
              "          document.querySelector('#df-570ded5f-0f0c-4a12-8dd8-bbfe786673fb button.colab-df-convert');\n",
              "        buttonEl.style.display =\n",
              "          google.colab.kernel.accessAllowed ? 'block' : 'none';\n",
              "\n",
              "        async function convertToInteractive(key) {\n",
              "          const element = document.querySelector('#df-570ded5f-0f0c-4a12-8dd8-bbfe786673fb');\n",
              "          const dataTable =\n",
              "            await google.colab.kernel.invokeFunction('convertToInteractive',\n",
              "                                                     [key], {});\n",
              "          if (!dataTable) return;\n",
              "\n",
              "          const docLinkHtml = 'Like what you see? Visit the ' +\n",
              "            '<a target=\"_blank\" href=https://colab.research.google.com/notebooks/data_table.ipynb>data table notebook</a>'\n",
              "            + ' to learn more about interactive tables.';\n",
              "          element.innerHTML = '';\n",
              "          dataTable['output_type'] = 'display_data';\n",
              "          await google.colab.output.renderOutput(dataTable, element);\n",
              "          const docLink = document.createElement('div');\n",
              "          docLink.innerHTML = docLinkHtml;\n",
              "          element.appendChild(docLink);\n",
              "        }\n",
              "      </script>\n",
              "    </div>\n",
              "  </div>\n",
              "  "
            ]
          },
          "metadata": {},
          "execution_count": 19
        }
      ]
    },
    {
      "cell_type": "markdown",
      "source": [
        "#test"
      ],
      "metadata": {
        "id": "KpmuJcAuX0EH"
      }
    },
    {
      "cell_type": "code",
      "source": [
        "import pandas as pd"
      ],
      "metadata": {
        "id": "rX7srfBFY-Au"
      },
      "execution_count": null,
      "outputs": []
    },
    {
      "cell_type": "code",
      "source": [
        "# Reading the Dataset\n",
        "!wget https://index.nopladi.workers.dev/0:/Crop_recommendation_2.csv\n",
        "df = pd.read_csv(\"Crop_recommendation_2.csv\")\n",
        "df"
      ],
      "metadata": {
        "colab": {
          "base_uri": "https://localhost:8080/"
        },
        "id": "mucJfSn_X2xN",
        "outputId": "98de6ba9-12d9-46e5-9cd1-7a6906d710cc"
      },
      "execution_count": null,
      "outputs": [
        {
          "output_type": "stream",
          "name": "stdout",
          "text": [
            "--2022-05-26 04:31:18--  https://index.nopladi.workers.dev/0:/Crop_recommendation_2.csv\n",
            "Resolving index.nopladi.workers.dev (index.nopladi.workers.dev)... 104.21.36.33, 172.67.184.87, 2606:4700:3031::ac43:b857, ...\n",
            "Connecting to index.nopladi.workers.dev (index.nopladi.workers.dev)|104.21.36.33|:443... connected.\n",
            "HTTP request sent, awaiting response... 200 OK\n",
            "Length: 124735 (122K) [text/csv]\n",
            "Saving to: ‘Crop_recommendation_2.csv’\n",
            "\n",
            "Crop_recommendation 100%[===================>] 121.81K  --.-KB/s    in 0.02s   \n",
            "\n",
            "2022-05-26 04:31:20 (4.97 MB/s) - ‘Crop_recommendation_2.csv’ saved [124735/124735]\n",
            "\n"
          ]
        },
        {
          "output_type": "execute_result",
          "data": {
            "text/plain": [
              "      temperature   humidity        ph    rainfall   label\n",
              "0       20.879744  82.002744  6.502985  202.935536    rice\n",
              "1       21.770462  80.319644  7.038096  226.655537    rice\n",
              "2       23.004459  82.320763  7.840207  263.964248    rice\n",
              "3       26.491096  80.158363  6.980401  242.864034    rice\n",
              "4       20.130175  81.604873  7.628473  262.717340    rice\n",
              "...           ...        ...       ...         ...     ...\n",
              "2195    26.774637  66.413269  6.780064  177.774507  coffee\n",
              "2196    27.417112  56.636362  6.086922  127.924610  coffee\n",
              "2197    24.131797  67.225123  6.362608  173.322839  coffee\n",
              "2198    26.272418  52.127394  6.758793  127.175293  coffee\n",
              "2199    23.603016  60.396475  6.779833  140.937041  coffee\n",
              "\n",
              "[2200 rows x 5 columns]"
            ],
            "text/html": [
              "\n",
              "  <div id=\"df-8bcb27a0-4c30-4b71-b7ea-9b668a5852ea\">\n",
              "    <div class=\"colab-df-container\">\n",
              "      <div>\n",
              "<style scoped>\n",
              "    .dataframe tbody tr th:only-of-type {\n",
              "        vertical-align: middle;\n",
              "    }\n",
              "\n",
              "    .dataframe tbody tr th {\n",
              "        vertical-align: top;\n",
              "    }\n",
              "\n",
              "    .dataframe thead th {\n",
              "        text-align: right;\n",
              "    }\n",
              "</style>\n",
              "<table border=\"1\" class=\"dataframe\">\n",
              "  <thead>\n",
              "    <tr style=\"text-align: right;\">\n",
              "      <th></th>\n",
              "      <th>temperature</th>\n",
              "      <th>humidity</th>\n",
              "      <th>ph</th>\n",
              "      <th>rainfall</th>\n",
              "      <th>label</th>\n",
              "    </tr>\n",
              "  </thead>\n",
              "  <tbody>\n",
              "    <tr>\n",
              "      <th>0</th>\n",
              "      <td>20.879744</td>\n",
              "      <td>82.002744</td>\n",
              "      <td>6.502985</td>\n",
              "      <td>202.935536</td>\n",
              "      <td>rice</td>\n",
              "    </tr>\n",
              "    <tr>\n",
              "      <th>1</th>\n",
              "      <td>21.770462</td>\n",
              "      <td>80.319644</td>\n",
              "      <td>7.038096</td>\n",
              "      <td>226.655537</td>\n",
              "      <td>rice</td>\n",
              "    </tr>\n",
              "    <tr>\n",
              "      <th>2</th>\n",
              "      <td>23.004459</td>\n",
              "      <td>82.320763</td>\n",
              "      <td>7.840207</td>\n",
              "      <td>263.964248</td>\n",
              "      <td>rice</td>\n",
              "    </tr>\n",
              "    <tr>\n",
              "      <th>3</th>\n",
              "      <td>26.491096</td>\n",
              "      <td>80.158363</td>\n",
              "      <td>6.980401</td>\n",
              "      <td>242.864034</td>\n",
              "      <td>rice</td>\n",
              "    </tr>\n",
              "    <tr>\n",
              "      <th>4</th>\n",
              "      <td>20.130175</td>\n",
              "      <td>81.604873</td>\n",
              "      <td>7.628473</td>\n",
              "      <td>262.717340</td>\n",
              "      <td>rice</td>\n",
              "    </tr>\n",
              "    <tr>\n",
              "      <th>...</th>\n",
              "      <td>...</td>\n",
              "      <td>...</td>\n",
              "      <td>...</td>\n",
              "      <td>...</td>\n",
              "      <td>...</td>\n",
              "    </tr>\n",
              "    <tr>\n",
              "      <th>2195</th>\n",
              "      <td>26.774637</td>\n",
              "      <td>66.413269</td>\n",
              "      <td>6.780064</td>\n",
              "      <td>177.774507</td>\n",
              "      <td>coffee</td>\n",
              "    </tr>\n",
              "    <tr>\n",
              "      <th>2196</th>\n",
              "      <td>27.417112</td>\n",
              "      <td>56.636362</td>\n",
              "      <td>6.086922</td>\n",
              "      <td>127.924610</td>\n",
              "      <td>coffee</td>\n",
              "    </tr>\n",
              "    <tr>\n",
              "      <th>2197</th>\n",
              "      <td>24.131797</td>\n",
              "      <td>67.225123</td>\n",
              "      <td>6.362608</td>\n",
              "      <td>173.322839</td>\n",
              "      <td>coffee</td>\n",
              "    </tr>\n",
              "    <tr>\n",
              "      <th>2198</th>\n",
              "      <td>26.272418</td>\n",
              "      <td>52.127394</td>\n",
              "      <td>6.758793</td>\n",
              "      <td>127.175293</td>\n",
              "      <td>coffee</td>\n",
              "    </tr>\n",
              "    <tr>\n",
              "      <th>2199</th>\n",
              "      <td>23.603016</td>\n",
              "      <td>60.396475</td>\n",
              "      <td>6.779833</td>\n",
              "      <td>140.937041</td>\n",
              "      <td>coffee</td>\n",
              "    </tr>\n",
              "  </tbody>\n",
              "</table>\n",
              "<p>2200 rows × 5 columns</p>\n",
              "</div>\n",
              "      <button class=\"colab-df-convert\" onclick=\"convertToInteractive('df-8bcb27a0-4c30-4b71-b7ea-9b668a5852ea')\"\n",
              "              title=\"Convert this dataframe to an interactive table.\"\n",
              "              style=\"display:none;\">\n",
              "        \n",
              "  <svg xmlns=\"http://www.w3.org/2000/svg\" height=\"24px\"viewBox=\"0 0 24 24\"\n",
              "       width=\"24px\">\n",
              "    <path d=\"M0 0h24v24H0V0z\" fill=\"none\"/>\n",
              "    <path d=\"M18.56 5.44l.94 2.06.94-2.06 2.06-.94-2.06-.94-.94-2.06-.94 2.06-2.06.94zm-11 1L8.5 8.5l.94-2.06 2.06-.94-2.06-.94L8.5 2.5l-.94 2.06-2.06.94zm10 10l.94 2.06.94-2.06 2.06-.94-2.06-.94-.94-2.06-.94 2.06-2.06.94z\"/><path d=\"M17.41 7.96l-1.37-1.37c-.4-.4-.92-.59-1.43-.59-.52 0-1.04.2-1.43.59L10.3 9.45l-7.72 7.72c-.78.78-.78 2.05 0 2.83L4 21.41c.39.39.9.59 1.41.59.51 0 1.02-.2 1.41-.59l7.78-7.78 2.81-2.81c.8-.78.8-2.07 0-2.86zM5.41 20L4 18.59l7.72-7.72 1.47 1.35L5.41 20z\"/>\n",
              "  </svg>\n",
              "      </button>\n",
              "      \n",
              "  <style>\n",
              "    .colab-df-container {\n",
              "      display:flex;\n",
              "      flex-wrap:wrap;\n",
              "      gap: 12px;\n",
              "    }\n",
              "\n",
              "    .colab-df-convert {\n",
              "      background-color: #E8F0FE;\n",
              "      border: none;\n",
              "      border-radius: 50%;\n",
              "      cursor: pointer;\n",
              "      display: none;\n",
              "      fill: #1967D2;\n",
              "      height: 32px;\n",
              "      padding: 0 0 0 0;\n",
              "      width: 32px;\n",
              "    }\n",
              "\n",
              "    .colab-df-convert:hover {\n",
              "      background-color: #E2EBFA;\n",
              "      box-shadow: 0px 1px 2px rgba(60, 64, 67, 0.3), 0px 1px 3px 1px rgba(60, 64, 67, 0.15);\n",
              "      fill: #174EA6;\n",
              "    }\n",
              "\n",
              "    [theme=dark] .colab-df-convert {\n",
              "      background-color: #3B4455;\n",
              "      fill: #D2E3FC;\n",
              "    }\n",
              "\n",
              "    [theme=dark] .colab-df-convert:hover {\n",
              "      background-color: #434B5C;\n",
              "      box-shadow: 0px 1px 3px 1px rgba(0, 0, 0, 0.15);\n",
              "      filter: drop-shadow(0px 1px 2px rgba(0, 0, 0, 0.3));\n",
              "      fill: #FFFFFF;\n",
              "    }\n",
              "  </style>\n",
              "\n",
              "      <script>\n",
              "        const buttonEl =\n",
              "          document.querySelector('#df-8bcb27a0-4c30-4b71-b7ea-9b668a5852ea button.colab-df-convert');\n",
              "        buttonEl.style.display =\n",
              "          google.colab.kernel.accessAllowed ? 'block' : 'none';\n",
              "\n",
              "        async function convertToInteractive(key) {\n",
              "          const element = document.querySelector('#df-8bcb27a0-4c30-4b71-b7ea-9b668a5852ea');\n",
              "          const dataTable =\n",
              "            await google.colab.kernel.invokeFunction('convertToInteractive',\n",
              "                                                     [key], {});\n",
              "          if (!dataTable) return;\n",
              "\n",
              "          const docLinkHtml = 'Like what you see? Visit the ' +\n",
              "            '<a target=\"_blank\" href=https://colab.research.google.com/notebooks/data_table.ipynb>data table notebook</a>'\n",
              "            + ' to learn more about interactive tables.';\n",
              "          element.innerHTML = '';\n",
              "          dataTable['output_type'] = 'display_data';\n",
              "          await google.colab.output.renderOutput(dataTable, element);\n",
              "          const docLink = document.createElement('div');\n",
              "          docLink.innerHTML = docLinkHtml;\n",
              "          element.appendChild(docLink);\n",
              "        }\n",
              "      </script>\n",
              "    </div>\n",
              "  </div>\n",
              "  "
            ]
          },
          "metadata": {},
          "execution_count": 3
        }
      ]
    },
    {
      "cell_type": "markdown",
      "source": [
        "# Model Creation | TensorFlow Raw"
      ],
      "metadata": {
        "id": "c9yVSA4jTP32"
      }
    },
    {
      "cell_type": "code",
      "execution_count": null,
      "metadata": {
        "id": "AnFnIzT1kzvY"
      },
      "outputs": [],
      "source": [
        "import tensorflow as tf\n",
        "from tensorflow.keras import layers\n",
        "import pandas as pd\n",
        "import numpy as np\n",
        "from tensorflow.keras import datasets, layers, models\n",
        "from tensorflow.keras.utils import to_categorical"
      ]
    },
    {
      "cell_type": "code",
      "source": [
        "X = df.iloc[:,0:3].values\n",
        "y = df.iloc[:,3].values"
      ],
      "metadata": {
        "id": "chYQosI7R4J9"
      },
      "execution_count": null,
      "outputs": []
    },
    {
      "cell_type": "code",
      "source": [
        "print(X[0:5])\n",
        "print(y[0:5])"
      ],
      "metadata": {
        "colab": {
          "base_uri": "https://localhost:8080/"
        },
        "id": "7R6jCOWpR-vm",
        "outputId": "add691f6-a1ef-4c41-d26e-aedcff70f7fb"
      },
      "execution_count": null,
      "outputs": [
        {
          "output_type": "stream",
          "name": "stdout",
          "text": [
            "[[27.13  2.    1.  ]\n",
            " [29.3   3.    1.  ]\n",
            " [27.84  1.    1.  ]\n",
            " [27.08  1.    1.  ]\n",
            " [25.51  3.    1.  ]]\n",
            "['Bayam Hijau' 'Bayam Hijau' 'Bayam Hijau' 'Bayam Hijau' 'Bayam Hijau']\n"
          ]
        }
      ]
    },
    {
      "cell_type": "code",
      "source": [
        "print(X.shape)\n",
        "print(y.shape)"
      ],
      "metadata": {
        "id": "4Xf53TJ3SLK8",
        "colab": {
          "base_uri": "https://localhost:8080/"
        },
        "outputId": "583a5739-f838-4df7-f404-cf8a44be28a0"
      },
      "execution_count": null,
      "outputs": [
        {
          "output_type": "stream",
          "name": "stdout",
          "text": [
            "(250, 3)\n",
            "(250,)\n"
          ]
        }
      ]
    },
    {
      "cell_type": "code",
      "source": [
        "from sklearn.preprocessing import LabelEncoder\n",
        "encoder =  LabelEncoder()\n",
        "y1 = encoder.fit_transform(y)"
      ],
      "metadata": {
        "id": "Lj2Who3oSMu-"
      },
      "execution_count": null,
      "outputs": []
    },
    {
      "cell_type": "code",
      "source": [
        "print(y1)"
      ],
      "metadata": {
        "id": "xf_vs3-QSPIV",
        "colab": {
          "base_uri": "https://localhost:8080/"
        },
        "outputId": "1d72e311-c2dd-44e3-f59b-80ef62ec6d64"
      },
      "execution_count": null,
      "outputs": [
        {
          "output_type": "stream",
          "name": "stdout",
          "text": [
            "[0 0 0 0 0 0 0 0 0 0 0 0 0 0 0 0 0 0 0 0 0 0 0 0 0 0 0 0 0 0 0 0 0 0 0 0 0\n",
            " 0 0 0 0 0 0 0 0 0 0 0 0 0 4 4 4 4 4 4 4 4 4 4 4 4 4 4 4 4 4 4 4 4 4 4 4 4\n",
            " 4 4 4 4 4 4 4 4 4 4 4 4 4 4 4 4 4 4 4 4 4 4 4 4 4 4 1 1 1 1 1 1 1 1 1 1 1\n",
            " 1 1 1 1 1 1 1 1 1 1 1 1 1 1 1 1 1 1 1 1 1 1 1 1 1 1 1 1 1 1 1 1 1 1 1 1 1\n",
            " 1 1 3 3 3 3 3 3 3 3 3 3 3 3 3 3 3 3 3 3 3 3 3 3 3 3 3 3 3 3 3 3 3 3 3 3 3\n",
            " 3 3 3 3 3 3 3 3 3 3 3 3 3 3 3 2 2 2 2 2 2 2 2 2 2 2 2 2 2 2 2 2 2 2 2 2 2\n",
            " 2 2 2 2 2 2 2 2 2 2 2 2 2 2 2 2 2 2 2 2 2 2 2 2 2 2 2 2]\n"
          ]
        }
      ]
    },
    {
      "cell_type": "code",
      "source": [
        "Y = pd.get_dummies(y1).values\n",
        "print(Y[0:5])"
      ],
      "metadata": {
        "id": "JSaprB5lSRC6",
        "colab": {
          "base_uri": "https://localhost:8080/"
        },
        "outputId": "8654cbda-83c2-435d-a666-85c05f45bf6d"
      },
      "execution_count": null,
      "outputs": [
        {
          "output_type": "stream",
          "name": "stdout",
          "text": [
            "[[1 0 0 0 0]\n",
            " [1 0 0 0 0]\n",
            " [1 0 0 0 0]\n",
            " [1 0 0 0 0]\n",
            " [1 0 0 0 0]]\n"
          ]
        }
      ]
    },
    {
      "cell_type": "code",
      "source": [
        "from sklearn.model_selection import train_test_split\n",
        "\n",
        "X_train, X_test, y_train, y_test = train_test_split(X, Y, test_size=0.2, random_state=0)"
      ],
      "metadata": {
        "id": "sNxZyS-fSTKO"
      },
      "execution_count": null,
      "outputs": []
    },
    {
      "cell_type": "code",
      "source": [
        "print(X_train[0:5])"
      ],
      "metadata": {
        "id": "rDqZLG76SVtg",
        "colab": {
          "base_uri": "https://localhost:8080/"
        },
        "outputId": "16bc5842-c76e-4c3a-f4ae-af71616669d0"
      },
      "execution_count": null,
      "outputs": [
        {
          "output_type": "stream",
          "name": "stdout",
          "text": [
            "[[27.17  1.    1.  ]\n",
            " [24.25  2.    1.  ]\n",
            " [29.85  2.    1.  ]\n",
            " [23.59  2.    1.  ]\n",
            " [22.12  3.    1.  ]]\n"
          ]
        }
      ]
    },
    {
      "cell_type": "code",
      "source": [
        "print(y_train[0:5])"
      ],
      "metadata": {
        "id": "eKJTsFXxSZ_R",
        "colab": {
          "base_uri": "https://localhost:8080/"
        },
        "outputId": "079655d8-5116-4c11-a46a-2f27dcb2b78d"
      },
      "execution_count": null,
      "outputs": [
        {
          "output_type": "stream",
          "name": "stdout",
          "text": [
            "[[0 0 0 0 1]\n",
            " [0 0 0 1 0]\n",
            " [0 0 0 1 0]\n",
            " [0 0 0 0 1]\n",
            " [0 0 0 0 1]]\n"
          ]
        }
      ]
    },
    {
      "cell_type": "code",
      "source": [
        "print(X_test[0:5])"
      ],
      "metadata": {
        "id": "WO6FiKmKSbsU",
        "colab": {
          "base_uri": "https://localhost:8080/"
        },
        "outputId": "56faebf7-81c9-4c6e-ce6b-94241aab7a0d"
      },
      "execution_count": null,
      "outputs": [
        {
          "output_type": "stream",
          "name": "stdout",
          "text": [
            "[[19.75  1.    1.  ]\n",
            " [27.26  2.    1.  ]\n",
            " [25.73  2.    1.  ]\n",
            " [29.44  1.    1.  ]\n",
            " [23.93  3.    1.  ]]\n"
          ]
        }
      ]
    },
    {
      "cell_type": "code",
      "source": [
        "print(y_test[0:5])"
      ],
      "metadata": {
        "id": "OwMTbCGpSdYX",
        "colab": {
          "base_uri": "https://localhost:8080/"
        },
        "outputId": "65a5863b-8ed8-4396-bef6-bb355a20a1bd"
      },
      "execution_count": null,
      "outputs": [
        {
          "output_type": "stream",
          "name": "stdout",
          "text": [
            "[[0 0 1 0 0]\n",
            " [0 1 0 0 0]\n",
            " [0 0 0 0 1]\n",
            " [0 0 0 1 0]\n",
            " [0 0 0 1 0]]\n"
          ]
        }
      ]
    },
    {
      "cell_type": "code",
      "source": [
        "model = tf.keras.Sequential([\n",
        "    tf.keras.layers.Dense(64, activation='relu'),\n",
        "    tf.keras.layers.Dense(32, activation='relu'),\n",
        "    tf.keras.layers.Dense(18, activation='relu'),\n",
        "    tf.keras.layers.Dense(5, activation='softmax')\n",
        "  ])\n",
        "model"
      ],
      "metadata": {
        "id": "D8LgKJYjSe46",
        "colab": {
          "base_uri": "https://localhost:8080/"
        },
        "outputId": "163dd8f0-c898-405f-a59e-381f9ad1ce44"
      },
      "execution_count": null,
      "outputs": [
        {
          "output_type": "execute_result",
          "data": {
            "text/plain": [
              "<keras.engine.sequential.Sequential at 0x7f72001eeb10>"
            ]
          },
          "metadata": {},
          "execution_count": 31
        }
      ]
    },
    {
      "cell_type": "code",
      "source": [
        "model.compile(optimizer='adam',\n",
        "              loss='categorical_crossentropy',\n",
        "              metrics=['accuracy'])"
      ],
      "metadata": {
        "id": "x1oV8kUzSg8C"
      },
      "execution_count": null,
      "outputs": []
    },
    {
      "cell_type": "code",
      "source": [
        "model.fit(X_train, y_train, batch_size=50, epochs=100)"
      ],
      "metadata": {
        "id": "qo06yjzISipL"
      },
      "execution_count": null,
      "outputs": []
    },
    {
      "cell_type": "code",
      "source": [
        "loss, accuracy = model.evaluate(X_test, y_test, verbose=0)\n",
        "print('Test loss:', loss)\n",
        "print('Test accuracy:', accuracy)"
      ],
      "metadata": {
        "id": "rCEsefOLSku0",
        "colab": {
          "base_uri": "https://localhost:8080/"
        },
        "outputId": "969aad98-41f4-4fa6-a318-e63f5dacc788"
      },
      "execution_count": null,
      "outputs": [
        {
          "output_type": "stream",
          "name": "stdout",
          "text": [
            "Test loss: 1.1721851825714111\n",
            "Test accuracy: 0.41999998688697815\n"
          ]
        }
      ]
    },
    {
      "cell_type": "code",
      "source": [
        "y_pred = model.predict(X_test)\n",
        "y_pred"
      ],
      "metadata": {
        "id": "-TMHOoQNS3QQ"
      },
      "execution_count": null,
      "outputs": []
    },
    {
      "cell_type": "code",
      "source": [
        "actual = np.argmax(y_test,axis=1)\n",
        "predicted = np.argsort(y_pred,axis=1)\n",
        "print(f\"Actual: {actual}\")\n",
        "print(f\"Predicted: \\n {predicted}\")"
      ],
      "metadata": {
        "id": "LTKo0gpfTFfg"
      },
      "execution_count": null,
      "outputs": []
    }
  ]
}